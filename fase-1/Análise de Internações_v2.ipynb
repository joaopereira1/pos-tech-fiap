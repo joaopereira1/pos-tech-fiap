{
 "cells": [
  {
   "cell_type": "markdown",
   "id": "9c47a695",
   "metadata": {},
   "source": [
    "# Projeto de análise de internações do SUS"
   ]
  },
  {
   "cell_type": "code",
   "execution_count": 1,
   "id": "90f2540d",
   "metadata": {},
   "outputs": [],
   "source": [
    "import pandas as pd\n",
    "import matplotlib.ticker as ticker\n",
    "import matplotlib.pyplot as plt\n",
    "\n",
    "#alteração teste"
   ]
  },
  {
   "cell_type": "code",
   "execution_count": 3,
   "id": "eaa69618",
   "metadata": {},
   "outputs": [
    {
     "name": "stderr",
     "output_type": "stream",
     "text": [
      "C:\\Users\\conta\\AppData\\Local\\Temp\\ipykernel_64920\\1298413130.py:1: ParserWarning: Falling back to the 'python' engine because the 'c' engine does not support skipfooter; you can avoid this warning by specifying engine='python'.\n",
      "  dados = pd.read_csv('dados/dados_internacao_sus.csv', sep=';', encoding='ISO-8859-1', skiprows=3,\n"
     ]
    }
   ],
   "source": [
    "dados = pd.read_csv('dados/dados_internacao_sus.csv', sep=';', encoding='ISO-8859-1', skiprows=3, \n",
    "                    skipfooter=12, thousands='.', decimal=',')"
   ]
  },
  {
   "cell_type": "code",
   "execution_count": 4,
   "id": "063000ca",
   "metadata": {},
   "outputs": [],
   "source": [
    "# Convertendo todas as colunas para float, exceto a primeira\n",
    "pd.options.display.float_format = \"{:.2f}\".format\n",
    "\n",
    "for coluna in dados.columns[1:]:\n",
    "    dados[coluna] = pd.to_numeric(dados[coluna], errors='coerce')"
   ]
  },
  {
   "cell_type": "code",
   "execution_count": 5,
   "id": "80fe161f",
   "metadata": {},
   "outputs": [],
   "source": [
    "# Dicionário de mapeamento de meses\n",
    "meses_pt_num = {\n",
    "    'Jan': '01',\n",
    "    'Fev': '02',\n",
    "    'Mar': '03',\n",
    "    'Abr': '04',\n",
    "    'Mai': '05',\n",
    "    'Jun': '06',\n",
    "    'Jul': '07',\n",
    "    'Ago': '08',\n",
    "    'Set': '09',\n",
    "    'Out': '10',\n",
    "    'Nov': '11',\n",
    "    'Dez': '12'\n",
    "}"
   ]
  },
  {
   "cell_type": "code",
   "execution_count": 6,
   "id": "a3ca69fe",
   "metadata": {},
   "outputs": [],
   "source": [
    "#função para renoemar todas as colunas\n",
    "def ano_para_num(campo):\n",
    "    if campo == 'Total':\n",
    "        result = 'total'\n",
    "    elif campo == 'Unidade da Federação':\n",
    "        result = 'uf'\n",
    "    else:\n",
    "        ano = campo[0:4]\n",
    "        mes = meses_pt_num[campo[5:8]]\n",
    "        result = (ano+mes)\n",
    "    return result"
   ]
  },
  {
   "cell_type": "code",
   "execution_count": 7,
   "id": "60adee1f",
   "metadata": {},
   "outputs": [],
   "source": [
    "#renomeando todas as colunas\n",
    "dados.columns = [ano_para_num(coluna) for coluna in dados.columns]\n",
    "#lista apenas com as colunas com nome de anomes\n",
    "colunas_meses = [i for i in dados.columns if i[0:2] == '20'] "
   ]
  },
  {
   "cell_type": "code",
   "execution_count": 8,
   "id": "e8c77726",
   "metadata": {},
   "outputs": [],
   "source": [
    "# Transpor o DataFrame usando o melt\n",
    "df_transposto = pd.melt(dados, id_vars=['uf'], var_name='anomes', value_name='valor')"
   ]
  },
  {
   "cell_type": "code",
   "execution_count": 9,
   "id": "b87cfda0",
   "metadata": {},
   "outputs": [],
   "source": [
    "#adicionando regiao\n",
    "regiao = {'1':'Norte', '2':'Nordeste', '3':'Sudeste', '4':'Sul', '5':'Centro-Oeste'}\n",
    "df_transposto['regiao'] = df_transposto['uf'].map(lambda x: regiao[x[0]])"
   ]
  },
  {
   "cell_type": "code",
   "execution_count": 10,
   "id": "e2c14757",
   "metadata": {},
   "outputs": [
    {
     "data": {
      "text/html": [
       "<div>\n",
       "<style scoped>\n",
       "    .dataframe tbody tr th:only-of-type {\n",
       "        vertical-align: middle;\n",
       "    }\n",
       "\n",
       "    .dataframe tbody tr th {\n",
       "        vertical-align: top;\n",
       "    }\n",
       "\n",
       "    .dataframe thead th {\n",
       "        text-align: right;\n",
       "    }\n",
       "</style>\n",
       "<table border=\"1\" class=\"dataframe\">\n",
       "  <thead>\n",
       "    <tr style=\"text-align: right;\">\n",
       "      <th></th>\n",
       "      <th>uf</th>\n",
       "      <th>anomes</th>\n",
       "      <th>valor</th>\n",
       "      <th>regiao</th>\n",
       "    </tr>\n",
       "  </thead>\n",
       "  <tbody>\n",
       "    <tr>\n",
       "      <th>0</th>\n",
       "      <td>11 Rondônia</td>\n",
       "      <td>200801</td>\n",
       "      <td>1388528.39</td>\n",
       "      <td>Norte</td>\n",
       "    </tr>\n",
       "    <tr>\n",
       "      <th>1</th>\n",
       "      <td>12 Acre</td>\n",
       "      <td>200801</td>\n",
       "      <td>902416.00</td>\n",
       "      <td>Norte</td>\n",
       "    </tr>\n",
       "    <tr>\n",
       "      <th>2</th>\n",
       "      <td>13 Amazonas</td>\n",
       "      <td>200801</td>\n",
       "      <td>4735529.42</td>\n",
       "      <td>Norte</td>\n",
       "    </tr>\n",
       "    <tr>\n",
       "      <th>3</th>\n",
       "      <td>14 Roraima</td>\n",
       "      <td>200801</td>\n",
       "      <td>657889.53</td>\n",
       "      <td>Norte</td>\n",
       "    </tr>\n",
       "    <tr>\n",
       "      <th>4</th>\n",
       "      <td>15 Pará</td>\n",
       "      <td>200801</td>\n",
       "      <td>18864744.11</td>\n",
       "      <td>Norte</td>\n",
       "    </tr>\n",
       "    <tr>\n",
       "      <th>...</th>\n",
       "      <td>...</td>\n",
       "      <td>...</td>\n",
       "      <td>...</td>\n",
       "      <td>...</td>\n",
       "    </tr>\n",
       "    <tr>\n",
       "      <th>5233</th>\n",
       "      <td>43 Rio Grande do Sul</td>\n",
       "      <td>total</td>\n",
       "      <td>16750147966.65</td>\n",
       "      <td>Sul</td>\n",
       "    </tr>\n",
       "    <tr>\n",
       "      <th>5234</th>\n",
       "      <td>50 Mato Grosso do Sul</td>\n",
       "      <td>total</td>\n",
       "      <td>3219624366.70</td>\n",
       "      <td>Centro-Oeste</td>\n",
       "    </tr>\n",
       "    <tr>\n",
       "      <th>5235</th>\n",
       "      <td>51 Mato Grosso</td>\n",
       "      <td>total</td>\n",
       "      <td>2988456549.66</td>\n",
       "      <td>Centro-Oeste</td>\n",
       "    </tr>\n",
       "    <tr>\n",
       "      <th>5236</th>\n",
       "      <td>52 Goiás</td>\n",
       "      <td>total</td>\n",
       "      <td>6682627768.18</td>\n",
       "      <td>Centro-Oeste</td>\n",
       "    </tr>\n",
       "    <tr>\n",
       "      <th>5237</th>\n",
       "      <td>53 Distrito Federal</td>\n",
       "      <td>total</td>\n",
       "      <td>3543027009.96</td>\n",
       "      <td>Centro-Oeste</td>\n",
       "    </tr>\n",
       "  </tbody>\n",
       "</table>\n",
       "<p>5238 rows × 4 columns</p>\n",
       "</div>"
      ],
      "text/plain": [
       "                         uf  anomes          valor        regiao\n",
       "0               11 Rondônia  200801     1388528.39         Norte\n",
       "1                   12 Acre  200801      902416.00         Norte\n",
       "2               13 Amazonas  200801     4735529.42         Norte\n",
       "3                14 Roraima  200801      657889.53         Norte\n",
       "4                   15 Pará  200801    18864744.11         Norte\n",
       "...                     ...     ...            ...           ...\n",
       "5233   43 Rio Grande do Sul   total 16750147966.65           Sul\n",
       "5234  50 Mato Grosso do Sul   total  3219624366.70  Centro-Oeste\n",
       "5235         51 Mato Grosso   total  2988456549.66  Centro-Oeste\n",
       "5236               52 Goiás   total  6682627768.18  Centro-Oeste\n",
       "5237    53 Distrito Federal   total  3543027009.96  Centro-Oeste\n",
       "\n",
       "[5238 rows x 4 columns]"
      ]
     },
     "execution_count": 10,
     "metadata": {},
     "output_type": "execute_result"
    }
   ],
   "source": [
    "df_transposto"
   ]
  }
 ],
 "metadata": {
  "kernelspec": {
   "display_name": "Python 3 (ipykernel)",
   "language": "python",
   "name": "python3"
  },
  "language_info": {
   "codemirror_mode": {
    "name": "ipython",
    "version": 3
   },
   "file_extension": ".py",
   "mimetype": "text/x-python",
   "name": "python",
   "nbconvert_exporter": "python",
   "pygments_lexer": "ipython3",
   "version": "3.10.9"
  }
 },
 "nbformat": 4,
 "nbformat_minor": 5
}
