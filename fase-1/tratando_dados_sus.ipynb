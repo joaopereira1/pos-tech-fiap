{
 "cells": [
  {
   "cell_type": "markdown",
   "id": "8d8fdef4",
   "metadata": {},
   "source": [
    "# Projeto inicial da fase I"
   ]
  },
  {
   "cell_type": "code",
   "execution_count": 26,
   "id": "90f2540d",
   "metadata": {},
   "outputs": [],
   "source": [
    "import pandas as pd\n",
    "import matplotlib.ticker as ticker\n",
    "import matplotlib.pyplot as plt"
   ]
  },
  {
   "cell_type": "code",
   "execution_count": 27,
   "id": "eaa69618",
   "metadata": {},
   "outputs": [
    {
     "name": "stderr",
     "output_type": "stream",
     "text": [
      "C:\\Users\\conta\\AppData\\Local\\Temp\\ipykernel_3900\\1298413130.py:1: ParserWarning: Falling back to the 'python' engine because the 'c' engine does not support skipfooter; you can avoid this warning by specifying engine='python'.\n",
      "  dados = pd.read_csv('dados/dados_internacao_sus.csv', sep=';', encoding='ISO-8859-1', skiprows=3,\n"
     ]
    }
   ],
   "source": [
    "dados = pd.read_csv('dados/dados_internacao_sus.csv', sep=';', encoding='ISO-8859-1', skiprows=3, \n",
    "                    skipfooter=12, thousands='.', decimal=',')"
   ]
  },
  {
   "cell_type": "code",
   "execution_count": 28,
   "id": "063000ca",
   "metadata": {},
   "outputs": [],
   "source": [
    "# Convertendo todas as colunas para float, exceto a primeira\n",
    "pd.options.display.float_format = \"{:.2f}\".format\n",
    "\n",
    "for coluna in dados.columns[1:]:\n",
    "    dados[coluna] = pd.to_numeric(dados[coluna], errors='coerce')"
   ]
  },
  {
   "cell_type": "code",
   "execution_count": 29,
   "id": "80fe161f",
   "metadata": {},
   "outputs": [],
   "source": [
    "# Dicionário de mapeamento de meses\n",
    "meses_pt_num = {\n",
    "    'Jan': '01',\n",
    "    'Fev': '02',\n",
    "    'Mar': '03',\n",
    "    'Abr': '04',\n",
    "    'Mai': '05',\n",
    "    'Jun': '06',\n",
    "    'Jul': '07',\n",
    "    'Ago': '08',\n",
    "    'Set': '09',\n",
    "    'Out': '10',\n",
    "    'Nov': '11',\n",
    "    'Dez': '12'\n",
    "}"
   ]
  },
  {
   "cell_type": "code",
   "execution_count": 30,
   "id": "a3ca69fe",
   "metadata": {},
   "outputs": [],
   "source": [
    "#função para renoemar todas as colunas\n",
    "def ano_para_num(campo):\n",
    "    if campo == 'Total':\n",
    "        result = 'total'\n",
    "    elif campo == 'Unidade da Federação':\n",
    "        result = 'uf'\n",
    "    else:\n",
    "        ano = campo[0:4]\n",
    "        mes = meses_pt_num[campo[5:8]]\n",
    "        result = (ano+mes)\n",
    "    return result"
   ]
  },
  {
   "cell_type": "code",
   "execution_count": 31,
   "id": "60adee1f",
   "metadata": {},
   "outputs": [],
   "source": [
    "#renomeando todas as colunas\n",
    "dados.columns = [ano_para_num(coluna) for coluna in dados.columns]\n",
    "#lista apenas com as colunas com nome de anomes\n",
    "colunas_meses = [i for i in dados.columns if i[0:2] == '20'] "
   ]
  },
  {
   "cell_type": "code",
   "execution_count": 32,
   "id": "e8c77726",
   "metadata": {},
   "outputs": [],
   "source": [
    "# Transpor o DataFrame usando o melt\n",
    "df_transposto = pd.melt(dados, id_vars=['uf'], var_name='anomes', value_name='valor')"
   ]
  },
  {
   "cell_type": "code",
   "execution_count": 33,
   "id": "b87cfda0",
   "metadata": {},
   "outputs": [],
   "source": [
    "#adicionando regiao\n",
    "regiao = {'1':'Norte', '2':'Nordeste', '3':'Sudeste', '4':'Sul', '5':'Centro-Oeste'}\n",
    "df_transposto['regiao'] = df_transposto['uf'].map(lambda x: regiao[x[0]])"
   ]
  },
  {
   "cell_type": "code",
   "execution_count": 34,
   "id": "7569c3e3",
   "metadata": {},
   "outputs": [],
   "source": [
    "df_transposto = df_transposto.query(\"anomes not in ('regiao','total')\")"
   ]
  },
  {
   "cell_type": "code",
   "execution_count": 35,
   "id": "0ec7f9cf",
   "metadata": {},
   "outputs": [],
   "source": [
    "df_transposto['valor'] = df_transposto['valor'].astype(float)"
   ]
  },
  {
   "cell_type": "code",
   "execution_count": 36,
   "id": "e2c14757",
   "metadata": {},
   "outputs": [],
   "source": [
    "df_transposto.to_csv('dados/dados_sus_t.csv', sep=';', index=False)"
   ]
  }
 ],
 "metadata": {
  "kernelspec": {
   "display_name": "Python 3 (ipykernel)",
   "language": "python",
   "name": "python3"
  },
  "language_info": {
   "codemirror_mode": {
    "name": "ipython",
    "version": 3
   },
   "file_extension": ".py",
   "mimetype": "text/x-python",
   "name": "python",
   "nbconvert_exporter": "python",
   "pygments_lexer": "ipython3",
   "version": "3.10.11"
  }
 },
 "nbformat": 4,
 "nbformat_minor": 5
}
